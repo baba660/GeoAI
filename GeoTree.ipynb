{
 "cells": [
  {
   "cell_type": "code",
   "execution_count": 1,
   "metadata": {},
   "outputs": [],
   "source": [
    "import cv2\n",
    "import numpy as np\n",
    "\n",
    "image = cv2.imread('PalmTree.png')\n",
    "\n",
    "blurred  = cv2.pyrMeanShiftFiltering(image,1,0) \n",
    "\n",
    "gray = cv2.cvtColor(blurred,cv2.COLOR_BGR2GRAY)\n",
    "\n",
    "ret , threshold = cv2.threshold(gray,0,255,cv2.THRESH_BINARY+cv2.THRESH_OTSU)\n",
    "\n",
    "cv2.imshow(\"GeoTree Threshold\",threshold)\n",
    "\n",
    "\n",
    "\n"
   ]
  },
  {
   "cell_type": "code",
   "execution_count": 2,
   "metadata": {},
   "outputs": [
    {
     "name": "stdout",
     "output_type": "stream",
     "text": [
      "All GeoTree Count :  All GeoTree Count : 17300  \n"
     ]
    },
    {
     "data": {
      "text/plain": [
       "array([[[147, 105, 100],\n",
       "        [131,  91,  86],\n",
       "        [122,  81,  78],\n",
       "        ...,\n",
       "        [ 81,  56,  60],\n",
       "        [ 85,  58,  62],\n",
       "        [ 90,  60,  65]],\n",
       "\n",
       "       [[120,  78,  73],\n",
       "        [123,  83,  78],\n",
       "        [129,  91,  87],\n",
       "        ...,\n",
       "        [ 86,  63,  67],\n",
       "        [ 80,  53,  57],\n",
       "        [ 95,  68,  72]],\n",
       "\n",
       "       [[101,  61,  56],\n",
       "        [113,  73,  68],\n",
       "        [125,  87,  83],\n",
       "        ...,\n",
       "        [ 93,  72,  75],\n",
       "        [ 79,  54,  58],\n",
       "        [ 70,  45,  49]],\n",
       "\n",
       "       ...,\n",
       "\n",
       "       [[ 33,  35,  36],\n",
       "        [ 51,  54,  58],\n",
       "        [ 68,  72,  77],\n",
       "        ...,\n",
       "        [ 33,  31,  37],\n",
       "        [ 40,  36,  41],\n",
       "        [ 43,  39,  44]],\n",
       "\n",
       "       [[ 34,  30,  35],\n",
       "        [ 28,  27,  31],\n",
       "        [ 26,  28,  36],\n",
       "        ...,\n",
       "        [ 33,  28,  30],\n",
       "        [ 47,  38,  41],\n",
       "        [ 53,  45,  46]],\n",
       "\n",
       "       [[ 57,  53,  58],\n",
       "        [ 36,  35,  39],\n",
       "        [ 27,  29,  37],\n",
       "        ...,\n",
       "        [ 33,  28,  30],\n",
       "        [ 46,  37,  40],\n",
       "        [ 50,  42,  43]]], dtype=uint8)"
      ]
     },
     "execution_count": 2,
     "metadata": {},
     "output_type": "execute_result"
    }
   ],
   "source": [
    "contours, hierarchy = cv2.findContours(threshold, cv2.RETR_TREE, cv2.CHAIN_APPROX_SIMPLE)\n",
    "\n",
    "AllstarCount=\"All GeoTree Count : %d  \"%len(contours);\n",
    "\n",
    "print(\"All GeoTree Count : \", AllstarCount);\n",
    "\n",
    "cv2.drawContours(image,contours,-1,(0,0,150),1)\n",
    "\n"
   ]
  },
  {
   "cell_type": "code",
   "execution_count": null,
   "metadata": {},
   "outputs": [],
   "source": [
    "cv2.imshow(AllstarCount,image)\n",
    "cv2.waitKey()\n",
    "print(\"All GeoTree Count : \", AllstarCount);"
   ]
  },
  {
   "cell_type": "code",
   "execution_count": null,
   "metadata": {},
   "outputs": [],
   "source": []
  },
  {
   "cell_type": "code",
   "execution_count": null,
   "metadata": {},
   "outputs": [],
   "source": []
  },
  {
   "cell_type": "code",
   "execution_count": null,
   "metadata": {},
   "outputs": [],
   "source": []
  }
 ],
 "metadata": {
  "kernelspec": {
   "display_name": "Python 3",
   "language": "python",
   "name": "python3"
  },
  "language_info": {
   "codemirror_mode": {
    "name": "ipython",
    "version": 3
   },
   "file_extension": ".py",
   "mimetype": "text/x-python",
   "name": "python",
   "nbconvert_exporter": "python",
   "pygments_lexer": "ipython3",
   "version": "3.7.3"
  }
 },
 "nbformat": 4,
 "nbformat_minor": 4
}
